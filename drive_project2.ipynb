{
  "nbformat": 4,
  "nbformat_minor": 0,
  "metadata": {
    "colab": {
      "name": "drive_project.ipynb",
      "provenance": [],
      "collapsed_sections": [],
      "mount_file_id": "1aNN7kW9P9QSw1m_eGTpw5wDf9V4Alhfz",
      "authorship_tag": "ABX9TyNhulD4pLiHnT9qZQjTs44B",
      "include_colab_link": true
    },
    "kernelspec": {
      "name": "python3",
      "display_name": "Python 3"
    },
    "accelerator": "GPU"
  },
  "cells": [
    {
      "cell_type": "markdown",
      "metadata": {
        "id": "view-in-github",
        "colab_type": "text"
      },
      "source": [
        "<a href=\"https://colab.research.google.com/github/leohafsa/Assignment4BHafsabatool/blob/master/drive_project2.ipynb\" target=\"_parent\"><img src=\"https://colab.research.google.com/assets/colab-badge.svg\" alt=\"Open In Colab\"/></a>"
      ]
    },
    {
      "cell_type": "code",
      "metadata": {
        "id": "zA73PRBtI-p0",
        "colab_type": "code",
        "colab": {
          "base_uri": "https://localhost:8080/",
          "height": 153
        },
        "outputId": "cf44d00a-bae6-4f9f-a4c1-1dd9c4df1236"
      },
      "source": [
        "!pip install keras"
      ],
      "execution_count": 2,
      "outputs": [
        {
          "output_type": "stream",
          "text": [
            "Requirement already satisfied: keras in /usr/local/lib/python3.6/dist-packages (2.3.1)\n",
            "Requirement already satisfied: scipy>=0.14 in /usr/local/lib/python3.6/dist-packages (from keras) (1.4.1)\n",
            "Requirement already satisfied: keras-applications>=1.0.6 in /usr/local/lib/python3.6/dist-packages (from keras) (1.0.8)\n",
            "Requirement already satisfied: keras-preprocessing>=1.0.5 in /usr/local/lib/python3.6/dist-packages (from keras) (1.1.2)\n",
            "Requirement already satisfied: numpy>=1.9.1 in /usr/local/lib/python3.6/dist-packages (from keras) (1.18.5)\n",
            "Requirement already satisfied: six>=1.9.0 in /usr/local/lib/python3.6/dist-packages (from keras) (1.12.0)\n",
            "Requirement already satisfied: h5py in /usr/local/lib/python3.6/dist-packages (from keras) (2.10.0)\n",
            "Requirement already satisfied: pyyaml in /usr/local/lib/python3.6/dist-packages (from keras) (3.13)\n"
          ],
          "name": "stdout"
        }
      ]
    },
    {
      "cell_type": "code",
      "metadata": {
        "id": "J6qWhlRqJwT-",
        "colab_type": "code",
        "colab": {
          "base_uri": "https://localhost:8080/",
          "height": 34
        },
        "outputId": "62ebe176-e113-43cc-8988-6b58eb7fb185"
      },
      "source": [
        "import keras\n",
        "from keras.models import *\n",
        "from keras.layers import *\n",
        "from keras.optimizers import *\n",
        "from keras.preprocessing.image import ImageDataGenerator"
      ],
      "execution_count": 3,
      "outputs": [
        {
          "output_type": "stream",
          "text": [
            "Using TensorFlow backend.\n"
          ],
          "name": "stderr"
        }
      ]
    },
    {
      "cell_type": "code",
      "metadata": {
        "id": "XU0uwfohY6NZ",
        "colab_type": "code",
        "colab": {}
      },
      "source": [
        "img_width, img_height=100,100\n",
        "input_shape=(img_height,img_width)\n",
        "train_data_dir='/content/drive/My Drive/data/test'\n",
        "validation_data_dir='/content/drive/My Drive/data/test'\n",
        "batch_size=10;"
      ],
      "execution_count": 4,
      "outputs": []
    },
    {
      "cell_type": "code",
      "metadata": {
        "id": "ZvZbJnT2L6Mk",
        "colab_type": "code",
        "colab": {
          "base_uri": "https://localhost:8080/",
          "height": 51
        },
        "outputId": "83734a00-c1b8-4a1c-fbbc-698061d7dbc5"
      },
      "source": [
        "\n",
        "#Data augmentation\n",
        "datagen=ImageDataGenerator(\n",
        "    rescale=1./244,\n",
        "    shear_range=0.2,\n",
        "    zoom_range=0.2,\n",
        "    horizontal_flip = True, \n",
        "    rotation_range=20,\n",
        "    width_shift_range=0.2,\n",
        "    height_shift_range=0.2,\n",
        "    validation_split=0.20,\n",
        ")\n",
        "train_generator=datagen.flow_from_directory(\n",
        "    train_data_dir,\n",
        "    target_size=(img_width,img_height),\n",
        "    batch_size=batch_size,\n",
        "    subset=\"training\",\n",
        "    class_mode='categorical'   \n",
        ")\n",
        "val_datagen=ImageDataGenerator(rescale=1./255)\n",
        "validation_generator=datagen.flow_from_directory(\n",
        "    validation_data_dir,\n",
        "    target_size=(img_width,img_height),\n",
        "    batch_size=batch_size,\n",
        "    subset=\"validation\",\n",
        "    class_mode='categorical'\n",
        "\n",
        ")"
      ],
      "execution_count": 5,
      "outputs": [
        {
          "output_type": "stream",
          "text": [
            "Found 256 images belonging to 32 classes.\n",
            "Found 64 images belonging to 32 classes.\n"
          ],
          "name": "stdout"
        }
      ]
    },
    {
      "cell_type": "code",
      "metadata": {
        "id": "_PTAEuX8SQ0s",
        "colab_type": "code",
        "colab": {}
      },
      "source": [
        "#Model\n",
        "model=Sequential()\n",
        "model.add(Conv2D(32,kernel_size=3,activation='relu', input_shape=(100,100,3)))\n",
        "model.add(MaxPool2D(strides=(2,2)))\n",
        "model.add(Dense(32,activation='softmax'))\n",
        "model=Sequential()\n",
        "model.add(Conv2D(32,kernel_size=3,activation='relu', input_shape=(100,100,3)))\n",
        "model.add(BatchNormalization())\n",
        "model.add(MaxPool2D(strides=(2,2)))\n",
        "#model.add(Dropout(0.5))\n",
        "model.add(Dense(32,activation='softmax'))\n",
        "model=Sequential()\n",
        "model.add(Conv2D(32,kernel_size=3,activation='relu', input_shape=(100,100,3)))\n",
        "model.add(Conv2D(32,kernel_size=3,activation='relu'))\n",
        "model.add(BatchNormalization())\n",
        "model.add(MaxPool2D(strides=(2,2)))\n",
        "#model.add(Dropout(0.3))\n",
        "model.add(Conv2D(64,kernel_size=5,activation='relu'))\n",
        "model.add(Conv2D(64,kernel_size=5,activation='relu'))\n",
        "model.add(BatchNormalization())\n",
        "model.add(MaxPool2D(strides=(2,2)))\n",
        "#model.add(Dropout(0.3))\n",
        "model.add(Dense(1024))\n",
        "model.add(Dense(512))\n",
        "model.add(Dense(32,activation='softmax'))\n",
        "\n"
      ],
      "execution_count": 11,
      "outputs": []
    },
    {
      "cell_type": "code",
      "metadata": {
        "id": "DOE4wNDmNP44",
        "colab_type": "code",
        "colab": {}
      },
      "source": [
        "#model\n",
        "model=Sequential()\n",
        "model.add(Conv2D(32,kernel_size=3,activation='relu',input_shape=(100,100,3)))\n",
        "model.add(BatchNormalization())\n",
        "model.add(MaxPool2D(strides=(2,2)))\n",
        "#model.add(Dropout(0.3))\n",
        "model.add(Conv2D(32,kernel_size=3,activation='relu',))\n",
        "model.add(BatchNormalization())\n",
        "model.add(MaxPool2D(strides=(2,2)))\n",
        "model.add(Dropout(0.5))\n",
        "model.add(Conv2D(64,kernel_size=3,activation='relu',))\n",
        "model.add(BatchNormalization())\n",
        "model.add(MaxPool2D(strides=(2,2)))\n",
        "#model.add(Dropout(0.4))\n",
        "model.add(Conv2D(64,kernel_size=3,activation='relu',))\n",
        "model.add(BatchNormalization())\n",
        "model.add(MaxPool2D(strides=(2,2)))\n",
        "#model.add(Dropout(0.3))\n",
        "model.add(Flatten())\n",
        "model.add(Dense(512,activation='relu'))\n",
        "model.add(Dense(128,activation='relu'))\n",
        "#model.add(Dropout(0.4))\n",
        "model.add(Dense(32,activation='softmax'))"
      ],
      "execution_count": 12,
      "outputs": []
    },
    {
      "cell_type": "code",
      "metadata": {
        "id": "5L2cATVP3xK3",
        "colab_type": "code",
        "colab": {}
      },
      "source": [
        "model.summary()"
      ],
      "execution_count": null,
      "outputs": []
    },
    {
      "cell_type": "code",
      "metadata": {
        "id": "-_BT2Xhi4DDW",
        "colab_type": "code",
        "colab": {}
      },
      "source": [
        "#rms=keras.optimizers.RMSprop(learning_rate=0.5,rho=0.9)\n",
        "#model.compile(loss='categorical_crossentropy',\n",
        "              #optimizer=rms, \n",
        "              #metrics=['categorical_accuracy'])\n",
        "\n",
        "from keras.optimizers import Adam\n",
        "opt = Adam(lr=0.001)\n",
        "model.compile(optimizer=opt, loss=keras.losses.categorical_crossentropy, metrics=['accuracy'])"
      ],
      "execution_count": 13,
      "outputs": []
    },
    {
      "cell_type": "code",
      "metadata": {
        "id": "cZRYhSs95ipF",
        "colab_type": "code",
        "colab": {}
      },
      "source": [
        "from keras.utils import plot_model\n",
        "plot_model(model, to_file='model.png')"
      ],
      "execution_count": null,
      "outputs": []
    },
    {
      "cell_type": "code",
      "metadata": {
        "id": "ByTydsgb53sn",
        "colab_type": "code",
        "colab": {
          "base_uri": "https://localhost:8080/",
          "height": 564
        },
        "outputId": "82a4d8ad-1619-4474-c429-d9da827dd3c3"
      },
      "source": [
        "from keras.callbacks import History,ModelCheckpoint, EarlyStopping\n",
        "checkpoint = ModelCheckpoint(\"cnn_m.h5\", monitor='val_acc', verbose=1, save_best_only=True,\n",
        "                             save_weights_only=False, mode='auto', period=1)\n",
        "early = EarlyStopping(monitor='val_accuracy', min_delta=0, patience=20, verbose=1, mode='max',baseline=0.95)\n",
        "history=History()\n",
        "model.fit_generator(\n",
        "    train_generator,\n",
        "    steps_per_epoch=400,\n",
        "    epochs=15,callbacks=[history],\n",
        "    validation_data=validation_generator,\n",
        "    validation_steps=2   \n",
        ")"
      ],
      "execution_count": 14,
      "outputs": [
        {
          "output_type": "stream",
          "text": [
            "Epoch 1/15\n",
            "400/400 [==============================] - 42s 105ms/step - loss: 1.9829 - accuracy: 0.4068 - val_loss: 11.1976 - val_accuracy: 0.0000e+00\n",
            "Epoch 2/15\n",
            "400/400 [==============================] - 41s 101ms/step - loss: 1.0752 - accuracy: 0.6513 - val_loss: 3.3796 - val_accuracy: 0.3000\n",
            "Epoch 3/15\n",
            "400/400 [==============================] - 41s 102ms/step - loss: 0.7085 - accuracy: 0.7703 - val_loss: 2.2129 - val_accuracy: 0.7000\n",
            "Epoch 4/15\n",
            "400/400 [==============================] - 40s 100ms/step - loss: 0.5055 - accuracy: 0.8373 - val_loss: 0.6766 - val_accuracy: 0.7143\n",
            "Epoch 5/15\n",
            "400/400 [==============================] - 41s 102ms/step - loss: 0.4932 - accuracy: 0.8481 - val_loss: 1.2720 - val_accuracy: 0.7500\n",
            "Epoch 6/15\n",
            "400/400 [==============================] - 40s 101ms/step - loss: 0.3953 - accuracy: 0.8766 - val_loss: 0.9110 - val_accuracy: 0.9000\n",
            "Epoch 7/15\n",
            "400/400 [==============================] - 40s 99ms/step - loss: 0.3513 - accuracy: 0.8881 - val_loss: 5.7953 - val_accuracy: 0.7143\n",
            "Epoch 8/15\n",
            "400/400 [==============================] - 40s 100ms/step - loss: 0.2731 - accuracy: 0.9131 - val_loss: 1.0953 - val_accuracy: 0.7000\n",
            "Epoch 9/15\n",
            "400/400 [==============================] - 40s 99ms/step - loss: 0.3005 - accuracy: 0.9027 - val_loss: 1.4404 - val_accuracy: 0.5500\n",
            "Epoch 10/15\n",
            "400/400 [==============================] - 39s 98ms/step - loss: 0.2427 - accuracy: 0.9302 - val_loss: 2.0524 - val_accuracy: 0.8000\n",
            "Epoch 11/15\n",
            "400/400 [==============================] - 40s 99ms/step - loss: 0.2577 - accuracy: 0.9249 - val_loss: 1.2934 - val_accuracy: 0.7857\n",
            "Epoch 12/15\n",
            "400/400 [==============================] - 39s 98ms/step - loss: 0.2396 - accuracy: 0.9233 - val_loss: 2.9239 - val_accuracy: 0.6500\n",
            "Epoch 13/15\n",
            "400/400 [==============================] - 39s 99ms/step - loss: 0.2013 - accuracy: 0.9391 - val_loss: 0.5923 - val_accuracy: 0.7000\n",
            "Epoch 14/15\n",
            "400/400 [==============================] - 40s 100ms/step - loss: 0.2280 - accuracy: 0.9302 - val_loss: 0.0072 - val_accuracy: 0.6429\n",
            "Epoch 15/15\n",
            "400/400 [==============================] - 40s 99ms/step - loss: 0.1670 - accuracy: 0.9477 - val_loss: 0.0279 - val_accuracy: 0.9500\n"
          ],
          "name": "stdout"
        },
        {
          "output_type": "execute_result",
          "data": {
            "text/plain": [
              "<keras.callbacks.callbacks.History at 0x7f140fde90f0>"
            ]
          },
          "metadata": {
            "tags": []
          },
          "execution_count": 14
        }
      ]
    },
    {
      "cell_type": "code",
      "metadata": {
        "id": "jGRs05ai7gqe",
        "colab_type": "code",
        "colab": {
          "base_uri": "https://localhost:8080/",
          "height": 34
        },
        "outputId": "599a8ce5-fd85-4a1f-fa89-120a588d2a11"
      },
      "source": [
        "print(history.history.keys())"
      ],
      "execution_count": 15,
      "outputs": [
        {
          "output_type": "stream",
          "text": [
            "dict_keys(['val_loss', 'val_accuracy', 'loss', 'accuracy'])\n"
          ],
          "name": "stdout"
        }
      ]
    },
    {
      "cell_type": "code",
      "metadata": {
        "id": "JUWvEZt5xd5m",
        "colab_type": "code",
        "colab": {
          "base_uri": "https://localhost:8080/",
          "height": 34
        },
        "outputId": "c42f0005-ffeb-4470-ef99-fa9c4394fa5f"
      },
      "source": [
        "validation_generator = datagen.flow_from_directory(\n",
        "        validation_data_dir,\n",
        "        target_size=(img_width,img_height),\n",
        "        batch_size=batch_size,\n",
        "        class_mode='categorical',\n",
        "        shuffle=False)"
      ],
      "execution_count": 16,
      "outputs": [
        {
          "output_type": "stream",
          "text": [
            "Found 320 images belonging to 32 classes.\n"
          ],
          "name": "stdout"
        }
      ]
    },
    {
      "cell_type": "code",
      "metadata": {
        "id": "CmG_yUF0zH-E",
        "colab_type": "code",
        "colab": {}
      },
      "source": [
        "class_labels = validation_generator.class_indices\n",
        "class_labels = {v: k for k, v in class_labels.items()}\n",
        "classes = list(class_labels.values())"
      ],
      "execution_count": 17,
      "outputs": []
    },
    {
      "cell_type": "code",
      "metadata": {
        "id": "QOam0okCzUlw",
        "colab_type": "code",
        "colab": {}
      },
      "source": [
        "y_pred = model.predict_generator(validation_generator)"
      ],
      "execution_count": 20,
      "outputs": []
    },
    {
      "cell_type": "code",
      "metadata": {
        "id": "RO4TGdgJzax3",
        "colab_type": "code",
        "colab": {}
      },
      "source": [
        "y_pred_label = np.argmax(y_pred, axis=1)\n"
      ],
      "execution_count": 21,
      "outputs": []
    },
    {
      "cell_type": "code",
      "metadata": {
        "id": "aoHgD2mAzecA",
        "colab_type": "code",
        "colab": {
          "base_uri": "https://localhost:8080/",
          "height": 34
        },
        "outputId": "80429c1e-866c-41c6-80d9-09d0edee0948"
      },
      "source": [
        "validation_generator.classes.shape,y_pred_label.shape"
      ],
      "execution_count": 22,
      "outputs": [
        {
          "output_type": "execute_result",
          "data": {
            "text/plain": [
              "((320,), (320,))"
            ]
          },
          "metadata": {
            "tags": []
          },
          "execution_count": 22
        }
      ]
    },
    {
      "cell_type": "code",
      "metadata": {
        "id": "mVJ-r8CoCF4h",
        "colab_type": "code",
        "colab": {}
      },
      "source": [
        "import numpy as np\n",
        "from sklearn.metrics import confusion_matrix,classification_report\n",
        "import matplotlib.pyplot as plt"
      ],
      "execution_count": 24,
      "outputs": []
    },
    {
      "cell_type": "code",
      "metadata": {
        "id": "d28kMWTrzkmO",
        "colab_type": "code",
        "colab": {
          "base_uri": "https://localhost:8080/",
          "height": 833
        },
        "outputId": "74b339ac-14c5-46eb-ff1f-8513a417f74e"
      },
      "source": [
        "#Confusion Matrix and Classification Report\n",
        "print('Confusion Matrix')\n",
        "print(confusion_matrix(validation_generator.classes, y_pred_label))\n",
        "print('Classification Report')\n",
        "print(classification_report(validation_generator.classes, y_pred_label, target_names=classes))"
      ],
      "execution_count": 25,
      "outputs": [
        {
          "output_type": "stream",
          "text": [
            "Confusion Matrix\n",
            "[[10  0  0 ...  0  0  0]\n",
            " [ 0 10  0 ...  0  0  0]\n",
            " [ 0  0 10 ...  0  0  0]\n",
            " ...\n",
            " [ 0  0  0 ...  8  0  0]\n",
            " [ 0  0  0 ...  0 10  0]\n",
            " [ 0  0  0 ...  0  1  8]]\n",
            "Classification Report\n",
            "                                                                    precision    recall  f1-score   support\n",
            "\n",
            "                                      AMN Macular Neuroretinopathy       0.91      1.00      0.95        10\n",
            "                                              Adult Coats' Disease       0.91      1.00      0.95        10\n",
            "                              Adult Foveomacular Dystrophy Pattern       0.77      1.00      0.87        10\n",
            "Age-Related Macular Degeneration With Pattern Dystrophy Appearance       1.00      1.00      1.00        10\n",
            "                                Antiphospholipid Antibody Syndrome       0.91      1.00      0.95        10\n",
            "                                                          Behcet's       1.00      1.00      1.00        10\n",
            "                                       Bilateral Macular Dystrophy       0.90      0.90      0.90        10\n",
            "                                Bull's Eye Maculopathy Chloroquine       0.83      1.00      0.91        10\n",
            "                                               CMV Chorioretinitis       1.00      0.90      0.95        10\n",
            "                                  Central Serous Chorioretinopathy       1.00      1.00      1.00        10\n",
            "                                                   Choroidal Nevus       1.00      0.80      0.89        10\n",
            "                                              Cone - Rod Dystrophy       0.90      0.90      0.90        10\n",
            "                                              Congenital Syphillis       1.00      0.90      0.95        10\n",
            "     Diabetic Maculopathy Multiple Myeloma with Retinal Detachment       1.00      0.90      0.95        10\n",
            "                                                Giant Retinal Tear       0.90      0.90      0.90        10\n",
            "                            Juxtafoveal Telangiectasis DM Diabetes       1.00      0.90      0.95        10\n",
            "                                      Leber's Stellate Maculopathy       0.90      0.90      0.90        10\n",
            "                                                 Macular Dystrophy       1.00      0.90      0.95        10\n",
            "                       Multifocal Exudative Detachments Due to VKH       1.00      1.00      1.00        10\n",
            "                                           Myelinated Nerve Fibers       1.00      1.00      1.00        10\n",
            "                                          North Carolina Dystrophy       0.90      0.90      0.90        10\n",
            "                                                 Optic Disc Drusen       0.67      1.00      0.80        10\n",
            "                Pattern Dystrophy Simulating Fundus Flavimaculatus       0.90      0.90      0.90        10\n",
            "                                       Reticular Pattern Dystrophy       1.00      1.00      1.00        10\n",
            "              Retinal Folds Following Retinal Reattachment Surgery       0.91      1.00      0.95        10\n",
            "                                           Retrohyaloid Hemorrhage       1.00      0.70      0.82        10\n",
            "                                                         Roth Spot       0.82      0.90      0.86        10\n",
            "                                   Self-Applied Retinal Detachment       1.00      1.00      1.00        10\n",
            "                                        Solar Retinopathy Familial       1.00      0.80      0.89        10\n",
            "                                                  Susac's Syndrome       1.00      0.80      0.89        10\n",
            "                                                 Terson's Syndrome       0.91      1.00      0.95        10\n",
            "                                             Wyburn-Mason Syndrome       1.00      0.80      0.89        10\n",
            "\n",
            "                                                          accuracy                           0.93       320\n",
            "                                                         macro avg       0.94      0.93      0.93       320\n",
            "                                                      weighted avg       0.94      0.93      0.93       320\n",
            "\n"
          ],
          "name": "stdout"
        }
      ]
    },
    {
      "cell_type": "code",
      "metadata": {
        "id": "YF9AGUggDXXp",
        "colab_type": "code",
        "colab": {}
      },
      "source": [
        "plt.figure(figsize=(8,8))\n",
        "cnf_matrix = confusion_matrix(validation_generator.classes, y_pred_label)\n",
        "\n",
        "plt.imshow(cnf_matrix, interpolation='nearest')\n",
        "plt.colorbar()\n",
        "tick_marks = np.arange(len(classes))\n",
        "_ = plt.xticks(tick_marks, classes, rotation=90)\n",
        "_ = plt.yticks(tick_marks, classes)\n",
        "plt.show();"
      ],
      "execution_count": null,
      "outputs": []
    },
    {
      "cell_type": "code",
      "metadata": {
        "id": "-e5Cxk0k8EYX",
        "colab_type": "code",
        "colab": {}
      },
      "source": [
        "#plot_results\n",
        "import matplotlib.pyplot as plt\n"
      ],
      "execution_count": 26,
      "outputs": []
    },
    {
      "cell_type": "code",
      "metadata": {
        "id": "BC7OD0bUhZHp",
        "colab_type": "code",
        "colab": {
          "base_uri": "https://localhost:8080/",
          "height": 295
        },
        "outputId": "d98edcd7-2886-4b4d-a05c-c230849216e8"
      },
      "source": [
        "#summarize History\n",
        "plt.plot(history.history['accuracy'])\n",
        "plt.plot(history.history['val_accuracy'])\n",
        "plt.title('model accuracy')\n",
        "plt.ylabel('accuracy')\n",
        "plt.xlabel('epoch')\n",
        "plt.legend(['train','test'],loc='upper left')\n",
        "plt.show()"
      ],
      "execution_count": 27,
      "outputs": [
        {
          "output_type": "display_data",
          "data": {
            "image/png": "[encoded data removed]",
            "text/plain": [
              "<Figure size 432x288 with 1 Axes>"
            ]
          },
          "metadata": {
            "tags": [],
            "needs_background": "light"
          }
        }
      ]
    },
    {
      "cell_type": "code",
      "metadata": {
        "id": "FmQIsYw2vPS6",
        "colab_type": "code",
        "colab": {
          "base_uri": "https://localhost:8080/",
          "height": 310
        },
        "outputId": "70fa5c1f-fe56-4f42-c405-a241c057ab03"
      },
      "source": [
        "# Loss Curves\n",
        "#plt.figure(figsize=[10,8])\n",
        "plt.plot(history.history['loss'],'r',linewidth=2.0)\n",
        "plt.plot(history.history['val_loss'],'b',linewidth=2.0)\n",
        "plt.legend(['Training loss', 'Validation Loss'],fontsize=10)\n",
        "#plt.grid()\n",
        "plt.xlabel('Epochs ',fontsize=10)\n",
        "plt.ylabel('Loss',fontsize=10)\n",
        "plt.title('Loss Curves',fontsize=10)\n",
        " \n"
      ],
      "execution_count": 46,
      "outputs": [
        {
          "output_type": "execute_result",
          "data": {
            "text/plain": [
              "Text(0.5, 1.0, 'Loss Curves')"
            ]
          },
          "metadata": {
            "tags": []
          },
          "execution_count": 46
        },
        {
          "output_type": "display_data",
          "data": {
            "image/png": "[encoded data removed]",
            "text/plain": [
              "<Figure size 432x288 with 1 Axes>"
            ]
          },
          "metadata": {
            "tags": [],
            "needs_background": "light"
          }
        }
      ]
    },
    {
      "cell_type": "code",
      "metadata": {
        "id": "rYuAArQ8sJUj",
        "colab_type": "code",
        "colab": {}
      },
      "source": [
        "model.save_weights('cnn_weights.h5')\n",
        "newmodel.load_weights('cnn_weights.h5')\n",
        "pred=newmodel.predict_generator(test_generator,steps=1821)"
      ],
      "execution_count": null,
      "outputs": []
    }
  ]
}